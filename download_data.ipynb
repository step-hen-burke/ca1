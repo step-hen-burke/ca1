{
 "cells": [
  {
   "cell_type": "code",
   "execution_count": 10,
   "id": "469c67ad-ddd4-4667-99c5-a3861e00c5eb",
   "metadata": {},
   "outputs": [],
   "source": [
    "import pandas as pd\n",
    "from pathlib import Path\n",
    "import datetime\n",
    "data_folder = Path('data/')"
   ]
  },
  {
   "cell_type": "code",
   "execution_count": 2,
   "id": "b2274bb7-a0d6-4994-8f03-c1129539cd9e",
   "metadata": {},
   "outputs": [],
   "source": [
    "if not data_folder.exists():\n",
    "    data_folder.mkdir()"
   ]
  },
  {
   "cell_type": "code",
   "execution_count": 14,
   "id": "4152c904-8d24-46e3-b6a8-e969206f16cd",
   "metadata": {},
   "outputs": [],
   "source": [
    "def get_data_from_cso(filename, table_code):\n",
    "    url = f\"https://ws.cso.ie/public/api.restful/PxStat.Data.Cube_API.ReadDataset/{table_code}/CSV/1.0/en\"\n",
    "    df = pd.read_csv(url)\n",
    "    date_string = datetime.datetime.now().strftime('%Y_%m_%d')\n",
    "    df.to_csv(data_folder/f'{filename}_{date_string}.csv', index=False)\n"
   ]
  },
  {
   "cell_type": "code",
   "execution_count": 15,
   "id": "db952699-93a6-4c0b-80a2-b8d1483148f4",
   "metadata": {},
   "outputs": [],
   "source": [
    "data_files = {\n",
    "    \"migration_table\": \"PEA03\",\n",
    "    \"population_estimates\": \"PEA01\"\n",
    "}"
   ]
  },
  {
   "cell_type": "code",
   "execution_count": 16,
   "id": "410bc1dc-571d-4f0b-8122-86f79ff1756d",
   "metadata": {},
   "outputs": [],
   "source": [
    "for filename, table_code in data_files.items():\n",
    "    get_data_from_cso(filename, table_code)\n",
    "    "
   ]
  },
  {
   "cell_type": "code",
   "execution_count": null,
   "id": "683def8d-4b0c-4ae6-821e-06182ac84ead",
   "metadata": {},
   "outputs": [],
   "source": []
  }
 ],
 "metadata": {
  "kernelspec": {
   "display_name": "Python 3 (ipykernel)",
   "language": "python",
   "name": "python3"
  },
  "language_info": {
   "codemirror_mode": {
    "name": "ipython",
    "version": 3
   },
   "file_extension": ".py",
   "mimetype": "text/x-python",
   "name": "python",
   "nbconvert_exporter": "python",
   "pygments_lexer": "ipython3",
   "version": "3.10.13"
  }
 },
 "nbformat": 4,
 "nbformat_minor": 5
}
