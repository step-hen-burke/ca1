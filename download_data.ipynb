{
 "cells": [
  {
   "cell_type": "code",
   "execution_count": 1,
   "id": "469c67ad-ddd4-4667-99c5-a3861e00c5eb",
   "metadata": {},
   "outputs": [],
   "source": [
    "import pandas as pd\n",
    "from pathlib import Path\n",
    "from tqdm.auto import tqdm"
   ]
  },
  {
   "cell_type": "code",
   "execution_count": 2,
   "id": "b2274bb7-a0d6-4994-8f03-c1129539cd9e",
   "metadata": {},
   "outputs": [],
   "source": [
    "data_folder = Path('data/')\n",
    "if not data_folder.exists():\n",
    "    data_folder.mkdir()"
   ]
  },
  {
   "cell_type": "code",
   "execution_count": 3,
   "id": "4152c904-8d24-46e3-b6a8-e969206f16cd",
   "metadata": {},
   "outputs": [],
   "source": [
    "def get_data_from_cso(filename, table_code):\n",
    "    url = f\"https://ws.cso.ie/public/api.restful/PxStat.Data.Cube_API.ReadDataset/{table_code}/CSV/1.0/en\"\n",
    "    df = pd.read_csv(url)\n",
    "    filepath = data_folder/f'{filename}.csv'\n",
    "    df.to_csv(filepath, index=False)\n",
    "    return {\"location\": filepath, \"rows\": len(df)}\n"
   ]
  },
  {
   "cell_type": "code",
   "execution_count": 4,
   "id": "db952699-93a6-4c0b-80a2-b8d1483148f4",
   "metadata": {},
   "outputs": [],
   "source": [
    "data_files = {\n",
    "    \"migration_table\": \"PEA03\",\n",
    "    \"population_estimates\": \"PEA01\",\n",
    "    \"census_2016_population_per_age\": \"E3018\",\n",
    "    \"population_estimates_per_region\": \"PEA04\",\n",
    "    \"population_estimates_per_regional_authority\": \"PEA07\",\n",
    "    \"deaths\": \"VSA09\",\n",
    "    \"migration_origin_destination\": \"PEA18\",\n",
    "    \"population_by_town_1996\": \"A0112\",\n",
    "    \"population_by_town_2002\": \"B0112\",\n",
    "    \"population_by_town_2006\": \"C0112\",\n",
    "    \"population_by_town_2011\": \"CD121\",\n",
    "    \"population_by_town_2016\": \"E2016\",\n",
    "    \"population_by_town_2022\": \"F1051\",\n",
    "}"
   ]
  },
  {
   "cell_type": "code",
   "execution_count": 5,
   "id": "410bc1dc-571d-4f0b-8122-86f79ff1756d",
   "metadata": {},
   "outputs": [
    {
     "data": {
      "application/vnd.jupyter.widget-view+json": {
       "model_id": "e7980125678241b9ba484bb7056bf936",
       "version_major": 2,
       "version_minor": 0
      },
      "text/plain": [
       "  0%|          | 0/13 [00:00<?, ?it/s]"
      ]
     },
     "metadata": {},
     "output_type": "display_data"
    },
    {
     "name": "stdout",
     "output_type": "stream",
     "text": [
      "Saved csv with 1998 rows to data/migration_table.csv\n",
      "Saved csv with 5994 rows to data/population_estimates.csv\n",
      "Saved csv with 61956 rows to data/census_2016_population_per_age.csv\n",
      "Saved csv with 6669 rows to data/population_estimates_per_region.csv\n",
      "Saved csv with 11286 rows to data/population_estimates_per_regional_authority.csv\n",
      "Saved csv with 204 rows to data/deaths.csv\n",
      "Saved csv with 2664 rows to data/migration_origin_destination.csv\n",
      "Saved csv with 5880 rows to data/population_by_town_1996.csv\n",
      "Saved csv with 5856 rows to data/population_by_town_2002.csv\n",
      "Saved csv with 5856 rows to data/population_by_town_2006.csv\n",
      "Saved csv with 17640 rows to data/population_by_town_2011.csv\n",
      "Saved csv with 6992 rows to data/population_by_town_2016.csv\n",
      "Saved csv with 28644 rows to data/population_by_town_2022.csv\n"
     ]
    }
   ],
   "source": [
    "progress = tqdm(data_files.items())\n",
    "for filename, table_code in progress:\n",
    "    progress.set_description(f\"Downloading table {table_code} - {filename}\")\n",
    "    download = get_data_from_cso(filename, table_code)\n",
    "    print(f\"Saved csv with {download['rows']} rows to {download['location']}\")\n",
    "    "
   ]
  },
  {
   "cell_type": "code",
   "execution_count": null,
   "id": "683def8d-4b0c-4ae6-821e-06182ac84ead",
   "metadata": {},
   "outputs": [],
   "source": []
  }
 ],
 "metadata": {
  "kernelspec": {
   "display_name": "Python 3 (ipykernel)",
   "language": "python",
   "name": "python3"
  },
  "language_info": {
   "codemirror_mode": {
    "name": "ipython",
    "version": 3
   },
   "file_extension": ".py",
   "mimetype": "text/x-python",
   "name": "python",
   "nbconvert_exporter": "python",
   "pygments_lexer": "ipython3",
   "version": "3.10.13"
  }
 },
 "nbformat": 4,
 "nbformat_minor": 5
}
